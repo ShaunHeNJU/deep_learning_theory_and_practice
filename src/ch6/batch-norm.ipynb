{
 "cells": [
  {
   "cell_type": "markdown",
   "metadata": {},
   "source": [
    "# Batch Normalization"
   ]
  },
  {
   "cell_type": "code",
   "execution_count": 1,
   "metadata": {},
   "outputs": [],
   "source": [
    "import numpy as np\n",
    "import tensorflow as tf\n",
    "from tensorflow.examples.tutorials.mnist import input_data"
   ]
  },
  {
   "cell_type": "code",
   "execution_count": 2,
   "metadata": {},
   "outputs": [
    {
     "name": "stdout",
     "output_type": "stream",
     "text": [
      "Extracting ../data/train-images-idx3-ubyte.gz\n",
      "Extracting ../data/train-labels-idx1-ubyte.gz\n",
      "Extracting ../data/t10k-images-idx3-ubyte.gz\n",
      "Extracting ../data/t10k-labels-idx1-ubyte.gz\n"
     ]
    }
   ],
   "source": [
    "mnist = input_data.read_data_sets(\"../data\", one_hot=True)"
   ]
  },
  {
   "cell_type": "code",
   "execution_count": 3,
   "metadata": {},
   "outputs": [],
   "source": [
    "def dense(x, size):\n",
    "    return tf.layers.dense(x, size)\n",
    "\n",
    "\n",
    "def dense_batch_relu(x, size, phase, scope, use_bn):\n",
    "    with tf.variable_scope(scope):\n",
    "        hidden = tf.layers.dense(x, size)\n",
    "        if use_bn:\n",
    "            hidden = tf.layers.batch_normalization(hidden, training=phase)\n",
    "        return tf.nn.relu(hidden, 'relu')"
   ]
  },
  {
   "cell_type": "markdown",
   "metadata": {},
   "source": [
    "## 使用Batch Norm"
   ]
  },
  {
   "cell_type": "code",
   "execution_count": 4,
   "metadata": {},
   "outputs": [],
   "source": [
    "x = tf.placeholder(tf.float32, (None, 784), name='x')\n",
    "y = tf.placeholder(tf.float32, (None, 10), name='y')\n",
    "phase = tf.placeholder(tf.bool, name='phase')\n",
    "\n",
    "h1 = dense_batch_relu(x, 100, phase, 'layer1', True)\n",
    "h2 = dense_batch_relu(h1, 100, phase, 'layer2', True)\n",
    "logits = tf.layers.dense(h2, 10, name='logits')\n",
    "\n",
    "with tf.name_scope('accuracy'):\n",
    "    accuracy = tf.reduce_mean(tf.cast(\n",
    "            tf.equal(tf.argmax(y, 1), tf.argmax(logits, 1)),\n",
    "            'float32'))\n",
    "\n",
    "with tf.name_scope('loss'):\n",
    "    loss = tf.reduce_mean(\n",
    "        tf.nn.softmax_cross_entropy_with_logits_v2(logits=logits, labels=y))"
   ]
  },
  {
   "cell_type": "markdown",
   "metadata": {},
   "source": [
    "## 使用Batch Norm训练"
   ]
  },
  {
   "cell_type": "code",
   "execution_count": 5,
   "metadata": {},
   "outputs": [
    {
     "name": "stdout",
     "output_type": "stream",
     "text": [
      "[1.0, 0.40137705, 0.8998182, 0.3858707, 0.9018]\n",
      "[2.0, 0.2806317, 0.9247091, 0.27438384, 0.9254]\n",
      "[3.0, 0.22669865, 0.93874544, 0.22603792, 0.9381]\n",
      "[4.0, 0.19536221, 0.9470909, 0.19791147, 0.9447]\n",
      "[5.0, 0.1734483, 0.9527636, 0.17962256, 0.948]\n",
      "[6.0, 0.15571256, 0.95723635, 0.16360001, 0.9527]\n",
      "[7.0, 0.14160381, 0.9613091, 0.15172392, 0.9575]\n",
      "[8.0, 0.12988809, 0.9646364, 0.14286597, 0.9598]\n",
      "[9.0, 0.12024695, 0.9670909, 0.13339405, 0.9612]\n",
      "[10.0, 0.111391746, 0.96943635, 0.12736762, 0.963]\n",
      "[11.0, 0.10324777, 0.97163635, 0.12148499, 0.9647]\n",
      "[12.0, 0.09701563, 0.9738182, 0.11781232, 0.9665]\n",
      "[13.0, 0.090735845, 0.97545457, 0.11264336, 0.9676]\n",
      "[14.0, 0.08532423, 0.9768909, 0.10847037, 0.9688]\n",
      "[15.0, 0.08128813, 0.97825456, 0.10744117, 0.9691]\n",
      "[16.0, 0.07693244, 0.9789818, 0.10325988, 0.9695]\n",
      "[17.0, 0.07256918, 0.9807818, 0.09992581, 0.9713]\n",
      "[18.0, 0.06882917, 0.9823818, 0.09901622, 0.9712]\n",
      "[19.0, 0.06508247, 0.9831273, 0.096344106, 0.9718]\n",
      "[20.0, 0.06166885, 0.9845818, 0.094008885, 0.9728]\n",
      "[21.0, 0.059294075, 0.9847818, 0.092606045, 0.9726]\n",
      "[22.0, 0.056234784, 0.9860182, 0.09050952, 0.9746]\n",
      "[23.0, 0.053613964, 0.9866, 0.088650785, 0.9744]\n",
      "[24.0, 0.050875645, 0.98776364, 0.08818456, 0.974]\n",
      "[25.0, 0.048421998, 0.98825455, 0.087033175, 0.9751]\n",
      "[26.0, 0.04644514, 0.98874545, 0.08625168, 0.9732]\n",
      "[27.0, 0.04432218, 0.9894, 0.08438251, 0.9752]\n",
      "[28.0, 0.042384066, 0.9900182, 0.0846088, 0.9747]\n",
      "[29.0, 0.04040006, 0.99045455, 0.08284884, 0.9764]\n",
      "[30.0, 0.039155044, 0.9908909, 0.08200702, 0.9754]\n",
      "[31.0, 0.03744067, 0.99169093, 0.08112284, 0.9757]\n",
      "[32.0, 0.03547296, 0.9922, 0.08074789, 0.9754]\n",
      "[33.0, 0.03420152, 0.9921091, 0.0796723, 0.9764]\n",
      "[34.0, 0.032723848, 0.99276364, 0.080303185, 0.9762]\n",
      "[35.0, 0.031101301, 0.9936909, 0.0793122, 0.9761]\n",
      "[36.0, 0.03021397, 0.99381816, 0.07924934, 0.9764]\n",
      "[37.0, 0.029077664, 0.9939455, 0.07932489, 0.977]\n",
      "[38.0, 0.027500555, 0.99432725, 0.07813549, 0.9773]\n",
      "[39.0, 0.026743742, 0.9946, 0.07821513, 0.9764]\n",
      "[40.0, 0.025522867, 0.99529094, 0.07791643, 0.9772]\n",
      "[41.0, 0.024822636, 0.9951091, 0.07834478, 0.9777]\n",
      "[42.0, 0.023847448, 0.9954727, 0.077726915, 0.9773]\n",
      "[43.0, 0.022656338, 0.99587274, 0.07776288, 0.9774]\n",
      "[44.0, 0.021722628, 0.9964, 0.0780785, 0.9768]\n",
      "[45.0, 0.021229235, 0.9963273, 0.07791906, 0.9781]\n",
      "[46.0, 0.020061193, 0.9967091, 0.07761081, 0.9774]\n",
      "[47.0, 0.019409662, 0.99667275, 0.07730619, 0.9771]\n",
      "[48.0, 0.018721987, 0.99694544, 0.0766822, 0.9779]\n",
      "[49.0, 0.018085947, 0.99741817, 0.077618696, 0.9772]\n",
      "[50.0, 0.017324721, 0.9974909, 0.07718485, 0.9772]\n"
     ]
    }
   ],
   "source": [
    "def train():\n",
    "    update_ops = tf.get_collection(tf.GraphKeys.UPDATE_OPS)\n",
    "    with tf.control_dependencies(update_ops):\n",
    "        train_step = tf.train.GradientDescentOptimizer(0.01).minimize(loss)\n",
    "    sess = tf.Session()\n",
    "    sess.run(tf.global_variables_initializer())\n",
    "\n",
    "    history = []\n",
    "    iterep = 500\n",
    "    for i in range(iterep * 50):\n",
    "        x_train, y_train = mnist.train.next_batch(100)\n",
    "        sess.run(train_step,\n",
    "                 feed_dict={x: x_train,\n",
    "                            y: y_train,\n",
    "                            phase: True})\n",
    "        if (i + 1) % iterep == 0:\n",
    "            epoch = (i + 1) / iterep\n",
    "            tr = sess.run([loss, accuracy],\n",
    "                          feed_dict={x: mnist.train.images,\n",
    "                                     y: mnist.train.labels,\n",
    "                                     phase: False})\n",
    "            t = sess.run([loss, accuracy],\n",
    "                         feed_dict={x: mnist.test.images,\n",
    "                                    y: mnist.test.labels,\n",
    "                                    phase: False})\n",
    "            history += [[epoch] + tr + t]\n",
    "            print(history[-1])\n",
    "    sess.close()\n",
    "    return history\n",
    "\n",
    "\n",
    "history1 = train()"
   ]
  },
  {
   "cell_type": "markdown",
   "metadata": {},
   "source": [
    "## 不使用batch norm"
   ]
  },
  {
   "cell_type": "code",
   "execution_count": 6,
   "metadata": {},
   "outputs": [
    {
     "name": "stdout",
     "output_type": "stream",
     "text": [
      "[1.0, 0.6498414, 0.8379273, 0.6246234, 0.8489]\n",
      "[2.0, 0.43222865, 0.8804727, 0.41078734, 0.8882]\n",
      "[3.0, 0.3671055, 0.8951273, 0.34911644, 0.9022]\n",
      "[4.0, 0.32889432, 0.90721816, 0.31370074, 0.9103]\n",
      "[5.0, 0.3034223, 0.91385454, 0.28935385, 0.9169]\n",
      "[6.0, 0.2855278, 0.91843635, 0.27207676, 0.9215]\n",
      "[7.0, 0.2695909, 0.9225818, 0.25709072, 0.9254]\n",
      "[8.0, 0.25538233, 0.9270727, 0.24466424, 0.9302]\n",
      "[9.0, 0.2438283, 0.9296727, 0.23418146, 0.9339]\n",
      "[10.0, 0.23258966, 0.93389094, 0.22460076, 0.9352]\n",
      "[11.0, 0.22340472, 0.9361454, 0.21660376, 0.9372]\n",
      "[12.0, 0.2143105, 0.9386182, 0.20947392, 0.9394]\n",
      "[13.0, 0.20672713, 0.9407273, 0.20161308, 0.9415]\n",
      "[14.0, 0.19838502, 0.94363636, 0.19403644, 0.9437]\n",
      "[15.0, 0.19125257, 0.9449818, 0.18751569, 0.9457]\n",
      "[16.0, 0.18384531, 0.9480364, 0.18150459, 0.9471]\n",
      "[17.0, 0.17833501, 0.9484909, 0.17681935, 0.9478]\n",
      "[18.0, 0.17220014, 0.9506909, 0.1730573, 0.9494]\n",
      "[19.0, 0.1671192, 0.9524, 0.16807269, 0.952]\n",
      "[20.0, 0.16268423, 0.95378184, 0.16479978, 0.9517]\n",
      "[21.0, 0.15668821, 0.95558184, 0.15939397, 0.9541]\n",
      "[22.0, 0.15239759, 0.9565091, 0.15604559, 0.9542]\n",
      "[23.0, 0.14951956, 0.95745456, 0.15448035, 0.9538]\n",
      "[24.0, 0.1439344, 0.9588909, 0.14841595, 0.9567]\n",
      "[25.0, 0.14061469, 0.95967275, 0.14576955, 0.9582]\n",
      "[26.0, 0.13693748, 0.9607091, 0.14345847, 0.958]\n",
      "[27.0, 0.13360305, 0.9624, 0.14100137, 0.9591]\n",
      "[28.0, 0.13100018, 0.96272725, 0.13994455, 0.9584]\n",
      "[29.0, 0.12800694, 0.9637273, 0.13756429, 0.9599]\n",
      "[30.0, 0.12373543, 0.9650364, 0.13335747, 0.9617]\n",
      "[31.0, 0.12244027, 0.9652727, 0.13181493, 0.9617]\n",
      "[32.0, 0.118639834, 0.9664364, 0.12876287, 0.9616]\n",
      "[33.0, 0.11624414, 0.9670909, 0.1276215, 0.9625]\n",
      "[34.0, 0.11401644, 0.96761817, 0.12630014, 0.9632]\n",
      "[35.0, 0.11178503, 0.96836364, 0.12411549, 0.9644]\n",
      "[36.0, 0.10828544, 0.9696909, 0.12127647, 0.9633]\n",
      "[37.0, 0.10647857, 0.96992725, 0.12015444, 0.9644]\n",
      "[38.0, 0.10381081, 0.9704, 0.117238194, 0.9649]\n",
      "[39.0, 0.10189217, 0.9713455, 0.1172044, 0.9649]\n",
      "[40.0, 0.10078704, 0.9710364, 0.11567227, 0.9659]\n",
      "[41.0, 0.09808656, 0.9726727, 0.114025414, 0.966]\n",
      "[42.0, 0.09661785, 0.9728, 0.1135458, 0.9664]\n",
      "[43.0, 0.094666965, 0.9732909, 0.11221923, 0.967]\n",
      "[44.0, 0.09484049, 0.97327274, 0.11244331, 0.9674]\n",
      "[45.0, 0.09080352, 0.97416365, 0.108714916, 0.9678]\n",
      "[46.0, 0.08964007, 0.9748, 0.109364994, 0.9669]\n",
      "[47.0, 0.088291906, 0.97507274, 0.10822207, 0.968]\n",
      "[48.0, 0.086029924, 0.97556365, 0.10613882, 0.9682]\n",
      "[49.0, 0.08466407, 0.9758545, 0.10509614, 0.9684]\n",
      "[50.0, 0.08315334, 0.9765091, 0.10408143, 0.9686]\n"
     ]
    }
   ],
   "source": [
    "tf.reset_default_graph()\n",
    "x = tf.placeholder(tf.float32, (None, 784), name='x')\n",
    "y = tf.placeholder(tf.float32, (None, 10), name='y')\n",
    "phase = tf.placeholder(tf.bool, name='phase')\n",
    "\n",
    "h1 = dense_batch_relu(x, 100, phase, 'layer1', False)\n",
    "h2 = dense_batch_relu(h1, 100, phase, 'layer2', False)\n",
    "logits = tf.layers.dense(h2, 10, name='logits')\n",
    "\n",
    "with tf.name_scope('accuracy'):\n",
    "    accuracy = tf.reduce_mean(tf.cast(\n",
    "            tf.equal(tf.argmax(y, 1), tf.argmax(logits, 1)),\n",
    "            'float32'))\n",
    "\n",
    "with tf.name_scope('loss'):\n",
    "    loss = tf.reduce_mean(\n",
    "        tf.nn.softmax_cross_entropy_with_logits_v2(logits=logits, labels=y))\n",
    "    \n",
    "    \n",
    "\n",
    "history2 = train()\n",
    "    "
   ]
  },
  {
   "cell_type": "markdown",
   "metadata": {},
   "source": [
    "## 绘图比较"
   ]
  },
  {
   "cell_type": "code",
   "execution_count": 7,
   "metadata": {},
   "outputs": [
    {
     "name": "stdout",
     "output_type": "stream",
     "text": [
      "Populating the interactive namespace from numpy and matplotlib\n"
     ]
    },
    {
     "data": {
      "text/plain": [
       "<matplotlib.legend.Legend at 0x7ff8e6932630>"
      ]
     },
     "execution_count": 7,
     "metadata": {},
     "output_type": "execute_result"
    },
    {
     "data": {
      "image/png": "[encoded data removed]",
      "text/plain": [
       "<Figure size 432x288 with 1 Axes>"
      ]
     },
     "metadata": {},
     "output_type": "display_data"
    }
   ],
   "source": [
    "%pylab inline\n",
    "history_bn = np.array(history1)\n",
    "history = np.array(history2)\n",
    " \n",
    "plt.plot(history[:, 0], history[:, -1], label='t_acc')\n",
    "plt.plot(history_bn[:, 0], history_bn[:, -1], label='t_acc_bn') \n",
    "plt.legend()\n",
    "\n"
   ]
  }
 ],
 "metadata": {
  "kernelspec": {
   "display_name": "py3.6-env",
   "language": "python",
   "name": "py3.6-env"
  },
  "language_info": {
   "codemirror_mode": {
    "name": "ipython",
    "version": 3
   },
   "file_extension": ".py",
   "mimetype": "text/x-python",
   "name": "python",
   "nbconvert_exporter": "python",
   "pygments_lexer": "ipython3",
   "version": "3.6.5"
  }
 },
 "nbformat": 4,
 "nbformat_minor": 2
}
