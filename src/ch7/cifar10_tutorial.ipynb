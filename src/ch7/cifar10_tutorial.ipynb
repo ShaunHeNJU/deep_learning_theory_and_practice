{
 "cells": [
  {
   "cell_type": "code",
   "execution_count": 1,
   "metadata": {},
   "outputs": [],
   "source": [
    "%matplotlib inline"
   ]
  },
  {
   "cell_type": "markdown",
   "metadata": {},
   "source": [
    "\n",
    "训练一个分类器\n",
    "=====================\n",
    "\n",
    "之前我们学习了怎么定义网络，计算loss和更新参数。\n",
    "\n",
    "数据怎么处理？\n",
    "----------------\n",
    "\n",
    "一般地，当我们处理图片、文本、音频或者视频数据的时候，我们可以使用python代码来把它转换成numpy数组。\n",
    "\n",
    "然后再把numpy数组转换成``torch.*Tensor``.\n",
    "\n",
    "-  对于处理图像，常见的lib包括Pillow和OpenCV\n",
    "-  对于音频，常见的lib包括scipy和librosa\n",
    "-  对于文本，可以使用标准的Python库，另外比较流行的lib包括NLTK和SpaCy\n",
    "\n",
    "对于视觉问题，我们创建了一个``torchvision``包，它对于常见数据集比如Imagenet, CIFAR10, MNIST等提供了加载的方法。\n",
    "并且它也提供很多数据变化的工具，包括``torchvision.datasets``和``torch.utils.data.DataLoader``。\n",
    "\n",
    "这会极大的简化我们的工作，避免重复的代码。\n",
    "\n",
    "在这个教程里，我们使用CIFAR10数据集。它包括十个类别：‘airplane’, ‘automobile’, ‘bird’, ‘cat’, ‘deer’,\n",
    "‘dog’, ‘frog’, ‘horse’, ‘ship’, ‘truck’。图像的对象是3x32x32，也就是3通道(RGB)的32x32的图片。\n",
    "\n",
    "下面是一些样例：\n",
    "\n",
    "![cifar10图片示例](cifar10.png \"cifar10图片示例\")\n",
    "\n",
    "\n",
    "训练一个图片分类器\n",
    "----------------------------\n",
    "\n",
    "我们把它分成如下步骤：\n",
    "\n",
    "1. 使用``torchvision``加载和预处理CIFAR10训练和测试数据集。   \n",
    "2. 定义卷积网络\n",
    "3. 定义损失函数\n",
    "4. 用训练数据训练模型\n",
    "5. 用测试数据测试模型\n",
    "\n",
    "\n",
    "\n"
   ]
  },
  {
   "cell_type": "raw",
   "metadata": {},
   "source": [
    "1. 加载和预处理CIFAR10\n",
    "^^^^^^^^^^^^^^^^^^^^^^^^^^^^^^^^^^\n",
    "使用``torchvision``，我们可以轻松的加载CIFAR10数据集。"
   ]
  },
  {
   "cell_type": "markdown",
   "metadata": {},
   "source": [
    "import torch\n",
    "import torchvision\n",
    "import torchvision.transforms as transforms"
   ]
  },
  {
   "cell_type": "markdown",
   "metadata": {},
   "source": [
    "torchvision读取的datasets是PILImage对象，它的取值范围是[0, 1]。\n",
    "我们把它转换到范围[-1, 1]。\n",
    "\n"
   ]
  },
  {
   "cell_type": "code",
   "execution_count": 3,
   "metadata": {},
   "outputs": [
    {
     "name": "stdout",
     "output_type": "stream",
     "text": [
      "Files already downloaded and verified\n",
      "Files already downloaded and verified\n"
     ]
    }
   ],
   "source": [
    "transform = transforms.Compose(\n",
    "    [transforms.ToTensor(),\n",
    "     transforms.Normalize((0.5, 0.5, 0.5), (0.5, 0.5, 0.5))])\n",
    "\n",
    "# 如果下载问题，请先从https://media.githubusercontent.com/media/fancyerii/fancyerii.github.io/master/assets/cifar-10-python.tar.gz\n",
    "# 下载，然后解压。\n",
    "trainset = torchvision.datasets.CIFAR10(root='./', train=True,\n",
    "                                        download=True, transform=transform)\n",
    "trainloader = torch.utils.data.DataLoader(trainset, batch_size=4,\n",
    "                                          shuffle=True, num_workers=2)\n",
    "\n",
    "testset = torchvision.datasets.CIFAR10(root='./', train=False,\n",
    "                                       download=True, transform=transform)\n",
    "testloader = torch.utils.data.DataLoader(testset, batch_size=4,\n",
    "                                         shuffle=False, num_workers=2)\n",
    "\n",
    "classes = ('plane', 'car', 'bird', 'cat',\n",
    "           'deer', 'dog', 'frog', 'horse', 'ship', 'truck')"
   ]
  },
  {
   "cell_type": "markdown",
   "metadata": {},
   "source": [
    "我们来看几张图片。\n",
    "\n"
   ]
  },
  {
   "cell_type": "code",
   "execution_count": 4,
   "metadata": {},
   "outputs": [
    {
     "name": "stdout",
     "output_type": "stream",
     "text": [
      "plane  ship  deer   car\n"
     ]
    },
    {
     "data": {
      "image/png": "[encoded data removed]",
      "text/plain": [
       "<Figure size 432x288 with 1 Axes>"
      ]
     },
     "metadata": {},
     "output_type": "display_data"
    }
   ],
   "source": [
    "import matplotlib.pyplot as plt\n",
    "import numpy as np\n",
    "\n",
    "# 显示图片的函数\n",
    "\n",
    "\n",
    "def imshow(img):\n",
    "    img = img / 2 + 0.5     #  [-1,1] -> [0,1]\n",
    "    npimg = img.numpy()\n",
    "    plt.imshow(np.transpose(npimg, (1, 2, 0))) # (channel, width, height) -> (width, height, channel)\n",
    "\n",
    "\n",
    "# 随机选择一些图片\n",
    "dataiter = iter(trainloader)\n",
    "images, labels = dataiter.next()\n",
    "\n",
    "# 显示图片\n",
    "imshow(torchvision.utils.make_grid(images))\n",
    "# 打印label\n",
    "print(' '.join('%5s' % classes[labels[j]] for j in range(4)))"
   ]
  },
  {
   "cell_type": "raw",
   "metadata": {},
   "source": [
    "2. 定义卷积网络\n",
    "^^^^^^^^^^^^^^^^^^^^^^^^^^^^^^^^^^^^^^\n",
    "代码和前面的介绍类似，只是输入通道从1变成3。\n",
    "\n"
   ]
  },
  {
   "cell_type": "code",
   "execution_count": 5,
   "metadata": {},
   "outputs": [],
   "source": [
    "import torch.nn as nn\n",
    "import torch.nn.functional as F\n",
    "\n",
    "\n",
    "class Net(nn.Module):\n",
    "    def __init__(self):\n",
    "        super(Net, self).__init__()\n",
    "        self.conv1 = nn.Conv2d(3, 6, 5)\n",
    "        self.pool = nn.MaxPool2d(2, 2)\n",
    "        self.conv2 = nn.Conv2d(6, 16, 5)\n",
    "        self.fc1 = nn.Linear(16 * 5 * 5, 120)\n",
    "        self.fc2 = nn.Linear(120, 84)\n",
    "        self.fc3 = nn.Linear(84, 10)\n",
    "\n",
    "    def forward(self, x):\n",
    "        x = self.pool(F.relu(self.conv1(x)))\n",
    "        x = self.pool(F.relu(self.conv2(x)))\n",
    "        x = x.view(-1, 16 * 5 * 5)\n",
    "        x = F.relu(self.fc1(x))\n",
    "        x = F.relu(self.fc2(x))\n",
    "        x = self.fc3(x)\n",
    "        return x\n",
    "\n",
    "\n",
    "net = Net()"
   ]
  },
  {
   "cell_type": "raw",
   "metadata": {},
   "source": [
    "3. 定义损失函数和optimizer\n",
    "^^^^^^^^^^^^^^^^^^^^^^^^^^^^^^^^^^^^^^^\n",
    "我们这里使用交叉熵损失函数，Optimizer使用带冲量的SGD。\n",
    "\n"
   ]
  },
  {
   "cell_type": "code",
   "execution_count": 6,
   "metadata": {},
   "outputs": [],
   "source": [
    "import torch.optim as optim\n",
    "\n",
    "criterion = nn.CrossEntropyLoss()\n",
    "optimizer = optim.SGD(net.parameters(), lr=0.001, momentum=0.9)"
   ]
  },
  {
   "cell_type": "raw",
   "metadata": {},
   "source": [
    "4. 训练网络\n",
    "^^^^^^^^^^^^^^^^^^^^\n",
    "\n",
    "我们遍历DataLoader进行训练。\n",
    "\n",
    "\n"
   ]
  },
  {
   "cell_type": "code",
   "execution_count": 7,
   "metadata": {},
   "outputs": [
    {
     "name": "stdout",
     "output_type": "stream",
     "text": [
      "[1,  2000] loss: 2.251\n",
      "[1,  4000] loss: 1.901\n",
      "[1,  6000] loss: 1.695\n",
      "[1,  8000] loss: 1.613\n",
      "[1, 10000] loss: 1.519\n",
      "[1, 12000] loss: 1.475\n",
      "[2,  2000] loss: 1.415\n",
      "[2,  4000] loss: 1.405\n",
      "[2,  6000] loss: 1.364\n",
      "[2,  8000] loss: 1.346\n",
      "[2, 10000] loss: 1.313\n",
      "[2, 12000] loss: 1.288\n",
      "Finished Training\n"
     ]
    }
   ],
   "source": [
    "for epoch in range(2):  # 这里只迭代2个epoch，实际应该进行更多次训练 \n",
    "\n",
    "    running_loss = 0.0\n",
    "    for i, data in enumerate(trainloader, 0):\n",
    "        # 得到输入\n",
    "        inputs, labels = data\n",
    "\n",
    "        # 梯度清零 \n",
    "        optimizer.zero_grad()\n",
    "\n",
    "        # forward + backward + optimize\n",
    "        outputs = net(inputs)\n",
    "        loss = criterion(outputs, labels)\n",
    "        loss.backward()\n",
    "        optimizer.step()\n",
    "\n",
    "        # 定义统计信息\n",
    "        running_loss += loss.item()\n",
    "        if i % 2000 == 1999:\n",
    "            print('[%d, %5d] loss: %.3f' %\n",
    "                  (epoch + 1, i + 1, running_loss / 2000))\n",
    "            running_loss = 0.0\n",
    "\n",
    "print('Finished Training')"
   ]
  },
  {
   "cell_type": "raw",
   "metadata": {},
   "source": [
    "5. 在测试数据集上进行测试\n",
    "^^^^^^^^^^^^^^^^^^^^^^^^^^^^^^^^^^^^\n",
    "\n",
    "我们进行了2轮迭代，可以使用测试数据集上的数据来进行测试。\n",
    "首先我们随机抽取几个样本来进行测试。\n",
    "\n"
   ]
  },
  {
   "cell_type": "code",
   "execution_count": 15,
   "metadata": {
    "scrolled": true
   },
   "outputs": [
    {
     "name": "stdout",
     "output_type": "stream",
     "text": [
      "GroundTruth:    cat  ship  ship plane\n"
     ]
    },
    {
     "data": {
      "image/png": "[encoded data removed]",
      "text/plain": [
       "<Figure size 432x288 with 1 Axes>"
      ]
     },
     "metadata": {},
     "output_type": "display_data"
    }
   ],
   "source": [
    "dataiter = iter(testloader)\n",
    "images, labels = dataiter.next()\n",
    "\n",
    "\n",
    "imshow(torchvision.utils.make_grid(images))\n",
    "print('GroundTruth: ', ' '.join('%5s' % classes[labels[j]] for j in range(4)))"
   ]
  },
  {
   "cell_type": "markdown",
   "metadata": {},
   "source": [
    "现在我们用模型来预测这些样本：\n",
    "\n"
   ]
  },
  {
   "cell_type": "code",
   "execution_count": 9,
   "metadata": {},
   "outputs": [],
   "source": [
    "outputs = net(images)"
   ]
  },
  {
   "cell_type": "markdown",
   "metadata": {},
   "source": [
    "outputs是10个分类的logits。我们在训练的时候需要用softmax把它变成概率(CrossEntropyLoss帮我们做了)，但是预测的时候没有必要，因为我们只需要知道哪个分类的概率大就行。\n"
   ]
  },
  {
   "cell_type": "code",
   "execution_count": 10,
   "metadata": {},
   "outputs": [
    {
     "name": "stdout",
     "output_type": "stream",
     "text": [
      "Predicted:    cat  ship  ship plane\n"
     ]
    }
   ],
   "source": [
    "_, predicted = torch.max(outputs, 1)\n",
    "\n",
    "print('Predicted: ', ' '.join('%5s' % classes[predicted[j]]\n",
    "                              for j in range(4)))"
   ]
  },
  {
   "cell_type": "markdown",
   "metadata": {},
   "source": [
    "结果还不错。接下来我们看看在整个测试集合上的效果：\n"
   ]
  },
  {
   "cell_type": "code",
   "execution_count": 11,
   "metadata": {},
   "outputs": [
    {
     "name": "stdout",
     "output_type": "stream",
     "text": [
      "Accuracy of the network on the 10000 test images: 54 %\n"
     ]
    }
   ],
   "source": [
    "correct = 0\n",
    "total = 0\n",
    "with torch.no_grad():\n",
    "    for data in testloader:\n",
    "        images, labels = data\n",
    "        outputs = net(images)\n",
    "        _, predicted = torch.max(outputs.data, 1)\n",
    "        total += labels.size(0)\n",
    "        correct += (predicted == labels).sum().item()\n",
    "\n",
    "print('Accuracy of the network on the 10000 test images: %d %%' % (\n",
    "    100 * correct / total))"
   ]
  },
  {
   "cell_type": "markdown",
   "metadata": {},
   "source": [
    "看起来比随机的瞎猜要好，因为随机猜的准确率大概是10%的准确率。因此模型确实学到了一些。我们也可以看每个分类的准确率：\n",
    "\n",
    "\n"
   ]
  },
  {
   "cell_type": "code",
   "execution_count": 12,
   "metadata": {},
   "outputs": [
    {
     "name": "stdout",
     "output_type": "stream",
     "text": [
      "Accuracy of plane : 67 %\n",
      "Accuracy of   car : 58 %\n",
      "Accuracy of  bird : 46 %\n",
      "Accuracy of   cat : 44 %\n",
      "Accuracy of  deer : 42 %\n",
      "Accuracy of   dog : 48 %\n",
      "Accuracy of  frog : 58 %\n",
      "Accuracy of horse : 48 %\n",
      "Accuracy of  ship : 76 %\n",
      "Accuracy of truck : 53 %\n"
     ]
    }
   ],
   "source": [
    "class_correct = list(0. for i in range(10))\n",
    "class_total = list(0. for i in range(10))\n",
    "with torch.no_grad():\n",
    "    for data in testloader:\n",
    "        images, labels = data\n",
    "        outputs = net(images)\n",
    "        _, predicted = torch.max(outputs, 1)\n",
    "        c = (predicted == labels).squeeze()\n",
    "        for i in range(4):\n",
    "            label = labels[i]\n",
    "            class_correct[label] += c[i].item()\n",
    "            class_total[label] += 1\n",
    "\n",
    "\n",
    "for i in range(10):\n",
    "    print('Accuracy of %5s : %2d %%' % (\n",
    "        classes[i], 100 * class_correct[i] / class_total[i]))"
   ]
  },
  {
   "cell_type": "markdown",
   "metadata": {},
   "source": [
    "\n",
    "在GPU上训练\n",
    "----------------\n",
    "为了在GPU上训练，我们需要把Tensor移到GPU上。首先我们看看是否有gpu，如果没有，那么我们还是fallback到cpu。\n",
    "\n"
   ]
  },
  {
   "cell_type": "code",
   "execution_count": 13,
   "metadata": {},
   "outputs": [
    {
     "name": "stdout",
     "output_type": "stream",
     "text": [
      "cuda:0\n"
     ]
    }
   ],
   "source": [
    "device = torch.device(\"cuda:0\" if torch.cuda.is_available() else \"cpu\")\n",
    " \n",
    "\n",
    "print(device)"
   ]
  },
  {
   "cell_type": "markdown",
   "metadata": {},
   "source": [
    "用GPU进行训练"
   ]
  },
  {
   "cell_type": "code",
   "execution_count": 16,
   "metadata": {},
   "outputs": [
    {
     "name": "stdout",
     "output_type": "stream",
     "text": [
      "[1,  2000] loss: 2.189\n",
      "[1,  4000] loss: 1.842\n",
      "[1,  6000] loss: 1.684\n",
      "[1,  8000] loss: 1.597\n",
      "[1, 10000] loss: 1.515\n",
      "[1, 12000] loss: 1.475\n",
      "[2,  2000] loss: 1.407\n",
      "[2,  4000] loss: 1.385\n",
      "[2,  6000] loss: 1.358\n",
      "[2,  8000] loss: 1.334\n",
      "[2, 10000] loss: 1.332\n",
      "[2, 12000] loss: 1.282\n",
      "[3,  2000] loss: 1.237\n",
      "[3,  4000] loss: 1.227\n",
      "[3,  6000] loss: 1.229\n",
      "[3,  8000] loss: 1.215\n",
      "[3, 10000] loss: 1.211\n",
      "[3, 12000] loss: 1.177\n",
      "[4,  2000] loss: 1.138\n",
      "[4,  4000] loss: 1.100\n",
      "[4,  6000] loss: 1.144\n",
      "[4,  8000] loss: 1.136\n",
      "[4, 10000] loss: 1.112\n",
      "[4, 12000] loss: 1.104\n",
      "[5,  2000] loss: 1.045\n",
      "[5,  4000] loss: 1.066\n",
      "[5,  6000] loss: 1.060\n",
      "[5,  8000] loss: 1.060\n",
      "[5, 10000] loss: 1.042\n",
      "[5, 12000] loss: 1.064\n",
      "[6,  2000] loss: 0.977\n",
      "[6,  4000] loss: 0.990\n",
      "[6,  6000] loss: 0.990\n",
      "[6,  8000] loss: 1.003\n",
      "[6, 10000] loss: 1.031\n",
      "[6, 12000] loss: 1.032\n",
      "[7,  2000] loss: 0.908\n",
      "[7,  4000] loss: 0.928\n",
      "[7,  6000] loss: 0.956\n",
      "[7,  8000] loss: 0.964\n",
      "[7, 10000] loss: 0.973\n",
      "[7, 12000] loss: 0.996\n",
      "[8,  2000] loss: 0.867\n",
      "[8,  4000] loss: 0.872\n",
      "[8,  6000] loss: 0.926\n",
      "[8,  8000] loss: 0.933\n",
      "[8, 10000] loss: 0.940\n",
      "[8, 12000] loss: 0.953\n",
      "[9,  2000] loss: 0.860\n",
      "[9,  4000] loss: 0.868\n",
      "[9,  6000] loss: 0.864\n",
      "[9,  8000] loss: 0.875\n",
      "[9, 10000] loss: 0.903\n",
      "[9, 12000] loss: 0.924\n",
      "[10,  2000] loss: 0.788\n",
      "[10,  4000] loss: 0.827\n",
      "[10,  6000] loss: 0.865\n",
      "[10,  8000] loss: 0.853\n",
      "[10, 10000] loss: 0.903\n",
      "[10, 12000] loss: 0.895\n",
      "[11,  2000] loss: 0.788\n",
      "[11,  4000] loss: 0.802\n",
      "[11,  6000] loss: 0.804\n",
      "[11,  8000] loss: 0.848\n",
      "[11, 10000] loss: 0.843\n",
      "[11, 12000] loss: 0.861\n",
      "[12,  2000] loss: 0.740\n",
      "[12,  4000] loss: 0.774\n",
      "[12,  6000] loss: 0.806\n",
      "[12,  8000] loss: 0.816\n",
      "[12, 10000] loss: 0.826\n",
      "[12, 12000] loss: 0.848\n",
      "[13,  2000] loss: 0.717\n",
      "[13,  4000] loss: 0.764\n",
      "[13,  6000] loss: 0.774\n",
      "[13,  8000] loss: 0.792\n",
      "[13, 10000] loss: 0.799\n",
      "[13, 12000] loss: 0.826\n",
      "[14,  2000] loss: 0.701\n",
      "[14,  4000] loss: 0.742\n",
      "[14,  6000] loss: 0.751\n",
      "[14,  8000] loss: 0.797\n",
      "[14, 10000] loss: 0.793\n",
      "[14, 12000] loss: 0.799\n",
      "[15,  2000] loss: 0.685\n",
      "[15,  4000] loss: 0.705\n",
      "[15,  6000] loss: 0.746\n",
      "[15,  8000] loss: 0.775\n",
      "[15, 10000] loss: 0.753\n",
      "[15, 12000] loss: 0.782\n",
      "[16,  2000] loss: 0.673\n",
      "[16,  4000] loss: 0.671\n",
      "[16,  6000] loss: 0.731\n",
      "[16,  8000] loss: 0.765\n",
      "[16, 10000] loss: 0.778\n",
      "[16, 12000] loss: 0.764\n",
      "[17,  2000] loss: 0.659\n",
      "[17,  4000] loss: 0.704\n",
      "[17,  6000] loss: 0.702\n",
      "[17,  8000] loss: 0.712\n",
      "[17, 10000] loss: 0.750\n",
      "[17, 12000] loss: 0.758\n",
      "[18,  2000] loss: 0.640\n",
      "[18,  4000] loss: 0.683\n",
      "[18,  6000] loss: 0.716\n",
      "[18,  8000] loss: 0.732\n",
      "[18, 10000] loss: 0.726\n",
      "[18, 12000] loss: 0.764\n",
      "[19,  2000] loss: 0.593\n",
      "[19,  4000] loss: 0.675\n",
      "[19,  6000] loss: 0.700\n",
      "[19,  8000] loss: 0.742\n",
      "[19, 10000] loss: 0.725\n",
      "[19, 12000] loss: 0.721\n",
      "[20,  2000] loss: 0.630\n",
      "[20,  4000] loss: 0.646\n",
      "[20,  6000] loss: 0.678\n",
      "[20,  8000] loss: 0.696\n",
      "[20, 10000] loss: 0.725\n",
      "[20, 12000] loss: 0.756\n",
      "Finished Training\n"
     ]
    }
   ],
   "source": [
    "class Net2(nn.Module):\n",
    "    def __init__(self):\n",
    "        super(Net2, self).__init__()\n",
    "        self.conv1 = nn.Conv2d(3, 6, 5).to(device)\n",
    "        self.pool = nn.MaxPool2d(2, 2).to(device)\n",
    "        self.conv2 = nn.Conv2d(6, 16, 5).to(device)\n",
    "        self.fc1 = nn.Linear(16 * 5 * 5, 120).to(device)\n",
    "        self.fc2 = nn.Linear(120, 84).to(device)\n",
    "        self.fc3 = nn.Linear(84, 10).to(device)\n",
    "\n",
    "    def forward(self, x):\n",
    "        x = self.pool(F.relu(self.conv1(x)))\n",
    "        x = self.pool(F.relu(self.conv2(x)))\n",
    "        x = x.view(-1, 16 * 5 * 5)\n",
    "        x = F.relu(self.fc1(x))\n",
    "        x = F.relu(self.fc2(x))\n",
    "        x = self.fc3(x)\n",
    "        return x\n",
    "\n",
    "\n",
    "net = Net2()\n",
    "criterion = nn.CrossEntropyLoss()\n",
    "optimizer = optim.SGD(net.parameters(), lr=0.001, momentum=0.9)\n",
    "\n",
    "for epoch in range(20):\n",
    "\n",
    "    running_loss = 0.0\n",
    "    for i, data in enumerate(trainloader, 0):\n",
    "        # 得到输入\n",
    "        inputs, labels = data \n",
    "        inputs, labels = inputs.to(device), labels.to(device) \n",
    "        # 梯度清零 \n",
    "        optimizer.zero_grad()\n",
    "\n",
    "        # forward + backward + optimize\n",
    "        outputs = net(inputs)\n",
    "        loss = criterion(outputs, labels)\n",
    "        loss.backward()\n",
    "        optimizer.step()\n",
    "\n",
    "        # 定义统计信息\n",
    "        running_loss += loss.item()\n",
    "        if i % 2000 == 1999:\n",
    "            print('[%d, %5d] loss: %.3f' %\n",
    "                  (epoch + 1, i + 1, running_loss / 2000))\n",
    "            running_loss = 0.0\n",
    "\n",
    "print('Finished Training')"
   ]
  },
  {
   "cell_type": "code",
   "execution_count": 17,
   "metadata": {},
   "outputs": [
    {
     "name": "stdout",
     "output_type": "stream",
     "text": [
      "Accuracy of the network on the 10000 test images: 60 %\n"
     ]
    }
   ],
   "source": [
    "correct = 0\n",
    "total = 0\n",
    "with torch.no_grad():\n",
    "    for data in testloader:\n",
    "        images, labels = data\n",
    "        images = images.to(device)\n",
    "        labels = labels.to(device)\n",
    "        outputs = net(images)\n",
    "        _, predicted = torch.max(outputs.data, 1)\n",
    "        total += labels.size(0)\n",
    "        correct += (predicted == labels).sum().item()\n",
    "\n",
    "print('Accuracy of the network on the 10000 test images: %d %%' % (\n",
    "    100 * correct / total))"
   ]
  },
  {
   "cell_type": "code",
   "execution_count": null,
   "metadata": {},
   "outputs": [],
   "source": []
  }
 ],
 "metadata": {
  "kernelspec": {
   "display_name": "py3.6-env",
   "language": "python",
   "name": "py3.6-env"
  },
  "language_info": {
   "codemirror_mode": {
    "name": "ipython",
    "version": 3
   },
   "file_extension": ".py",
   "mimetype": "text/x-python",
   "name": "python",
   "nbconvert_exporter": "python",
   "pygments_lexer": "ipython3",
   "version": "3.6.5"
  }
 },
 "nbformat": 4,
 "nbformat_minor": 1
}
