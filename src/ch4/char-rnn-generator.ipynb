{
 "cells": [
  {
   "cell_type": "markdown",
   "metadata": {},
   "source": [
    "# 使用RNN来生成莎士比亚风格的句子\n",
    "\n",
    "这个例子会用莎士比亚的著作来训练一个char-level RNN语言模型，同时使用它来生成莎士比亚风格的句子。"
   ]
  },
  {
   "cell_type": "markdown",
   "metadata": {},
   "source": [
    "## 数据准备\n",
    "\n",
    "输入文件是纯文本文件，我们会使用unidecode来把unicode转成ASCII文本。"
   ]
  },
  {
   "cell_type": "code",
   "execution_count": 11,
   "metadata": {},
   "outputs": [
    {
     "name": "stdout",
     "output_type": "stream",
     "text": [
      "file_len = 1115393\n"
     ]
    }
   ],
   "source": [
    "import unidecode\n",
    "import string\n",
    "import random\n",
    "import re\n",
    "\n",
    "all_characters = string.printable\n",
    "n_characters = len(all_characters)\n",
    "\n",
    "file = unidecode.unidecode(open('../data/shakespeare.txt').read())\n",
    "file_len = len(file)\n",
    "print('file_len =', file_len)"
   ]
  },
  {
   "cell_type": "markdown",
   "metadata": {},
   "source": [
    "这个文件太大了，我们随机的进行截断。"
   ]
  },
  {
   "cell_type": "code",
   "execution_count": 12,
   "metadata": {},
   "outputs": [
    {
     "name": "stdout",
     "output_type": "stream",
     "text": [
      "re lay hold of him;\n",
      "Bear him to the rock Tarpeian, and from thence\n",
      "Into destruction cast him.\n",
      "\n",
      "BRUTUS:\n",
      "AEdiles, seize him!\n",
      "\n",
      "Citizens:\n",
      "Yield, Marcius, yield!\n",
      "\n",
      "MENENIUS:\n",
      "Hear me one word;\n",
      "Beseech you, tr\n"
     ]
    }
   ],
   "source": [
    "chunk_len = 200\n",
    "\n",
    "def random_chunk():\n",
    "    start_index = random.randint(0, file_len - chunk_len)\n",
    "    end_index = start_index + chunk_len + 1\n",
    "    return file[start_index:end_index]\n",
    "\n",
    "print(random_chunk())"
   ]
  },
  {
   "cell_type": "markdown",
   "metadata": {},
   "source": [
    "## 定义模型\n",
    "\n",
    "回忆一下之前的Char RNN 分类器，我们是“手动”实现的最朴素的RNN，现在我们使用更加先进的GRU。\n",
    "另外之前是没有Embedding的，直接用字母的one-hot作为输入。"
   ]
  },
  {
   "cell_type": "code",
   "execution_count": 13,
   "metadata": {},
   "outputs": [],
   "source": [
    "import torch\n",
    "import torch.nn as nn\n",
    "from torch.autograd import Variable\n",
    "\n",
    "class RNN(nn.Module):\n",
    "    def __init__(self, input_size, hidden_size, output_size, n_layers=1):\n",
    "        super(RNN, self).__init__()\n",
    "        self.input_size = input_size\n",
    "        self.hidden_size = hidden_size\n",
    "        self.output_size = output_size\n",
    "        self.n_layers = n_layers\n",
    "        \n",
    "        self.encoder = nn.Embedding(input_size, hidden_size)\n",
    "        self.gru = nn.GRU(hidden_size, hidden_size, n_layers)\n",
    "        self.decoder = nn.Linear(hidden_size, output_size)\n",
    "    \n",
    "    def forward(self, input, hidden):\n",
    "        input = self.encoder(input.view(1, -1))\n",
    "        output, hidden = self.gru(input.view(1, 1, -1), hidden)\n",
    "        output = self.decoder(output.view(1, -1))\n",
    "        return output, hidden\n",
    "\n",
    "    def init_hidden(self):\n",
    "        return Variable(torch.zeros(self.n_layers, 1, self.hidden_size))"
   ]
  },
  {
   "cell_type": "markdown",
   "metadata": {},
   "source": [
    "## 输入和输出"
   ]
  },
  {
   "cell_type": "markdown",
   "metadata": {},
   "source": [
    "每个chunk会变成一个LongTensor，做法是遍历每一个字母然后把它变成all_characters里的下标。"
   ]
  },
  {
   "cell_type": "code",
   "execution_count": 14,
   "metadata": {},
   "outputs": [
    {
     "name": "stdout",
     "output_type": "stream",
     "text": [
      "tensor([ 10,  11,  12,  39,  40,  41])\n"
     ]
    }
   ],
   "source": [
    "# 把string变成LongTensor\n",
    "def char_tensor(string):\n",
    "    tensor = torch.zeros(len(string)).long()\n",
    "    for c in range(len(string)):\n",
    "        tensor[c] = all_characters.index(string[c])\n",
    "    return Variable(tensor)\n",
    "\n",
    "print(char_tensor('abcDEF'))"
   ]
  },
  {
   "cell_type": "markdown",
   "metadata": {},
   "source": [
    "最后我们随机的选择一个字符串作为训练数据，输入是字符串的第一个字母到倒数第二个字母，而输出是从第二个字母到最后一个字母。比如字符串是\"abc\"，那么输入就是\"ab\"，输出是\"bc\""
   ]
  },
  {
   "cell_type": "code",
   "execution_count": 15,
   "metadata": {},
   "outputs": [],
   "source": [
    "def random_training_set():    \n",
    "    chunk = random_chunk()\n",
    "    inp = char_tensor(chunk[:-1])\n",
    "    target = char_tensor(chunk[1:])\n",
    "    return inp, target"
   ]
  },
  {
   "cell_type": "markdown",
   "metadata": {},
   "source": [
    "## 生成句子\n",
    "\n",
    "为了评估模型生成的效果，我们首先需要让它来生成一些句子"
   ]
  },
  {
   "cell_type": "code",
   "execution_count": 16,
   "metadata": {},
   "outputs": [],
   "source": [
    "def evaluate(prime_str='A', predict_len=100, temperature=0.8):\n",
    "    hidden = decoder.init_hidden()\n",
    "    prime_input = char_tensor(prime_str)\n",
    "    predicted = prime_str\n",
    "\n",
    "    # 假设输入的前缀是字符串prime_str，先用它来改变隐状态\n",
    "    for p in range(len(prime_str) - 1):\n",
    "        _, hidden = decoder(prime_input[p], hidden)\n",
    "    inp = prime_input[-1]\n",
    "    \n",
    "    for p in range(predict_len):\n",
    "        output, hidden = decoder(inp, hidden)\n",
    "        \n",
    "        # 根据输出概率采样\n",
    "        output_dist = output.data.view(-1).div(temperature).exp()\n",
    "        top_i = torch.multinomial(output_dist, 1)[0]\n",
    "        \n",
    "        # 用上一个输出作为下一轮的输入\n",
    "        predicted_char = all_characters[top_i]\n",
    "        predicted += predicted_char\n",
    "        inp = char_tensor(predicted_char)\n",
    "\n",
    "    return predicted"
   ]
  },
  {
   "cell_type": "markdown",
   "metadata": {},
   "source": [
    "## 训练"
   ]
  },
  {
   "cell_type": "markdown",
   "metadata": {},
   "source": [
    "一些工具函数"
   ]
  },
  {
   "cell_type": "code",
   "execution_count": 17,
   "metadata": {},
   "outputs": [],
   "source": [
    "import time, math\n",
    "\n",
    "def time_since(since):\n",
    "    s = time.time() - since\n",
    "    m = math.floor(s / 60)\n",
    "    s -= m * 60\n",
    "    return '%dm %ds' % (m, s)"
   ]
  },
  {
   "cell_type": "markdown",
   "metadata": {},
   "source": [
    "训练函数："
   ]
  },
  {
   "cell_type": "code",
   "execution_count": 18,
   "metadata": {},
   "outputs": [],
   "source": [
    "def train(inp, target):\n",
    "    hidden = decoder.init_hidden()\n",
    "    decoder.zero_grad()\n",
    "    loss = 0\n",
    "\n",
    "    for c in range(chunk_len):\n",
    "        output, hidden = decoder(inp[c], hidden)\n",
    "        loss += criterion(output, target[c:c+1])\n",
    "\n",
    "    loss.backward()\n",
    "    decoder_optimizer.step()\n",
    "\n",
    "    return loss.item() / chunk_len"
   ]
  },
  {
   "cell_type": "markdown",
   "metadata": {},
   "source": [
    "接下来我们定义训练的参数，初始化模型，开始训练："
   ]
  },
  {
   "cell_type": "code",
   "execution_count": 19,
   "metadata": {},
   "outputs": [
    {
     "name": "stdout",
     "output_type": "stream",
     "text": [
      "[0m 9s (100 5%) 2.3245]\n",
      "Whell! thhe thihe hine thy sher as, wof he's ghe liths.\n",
      "\n",
      "OLIU:\n",
      "HIO:\n",
      "What hamedt juta sthithe mapnth ni \n",
      "\n",
      "[0m 19s (200 10%) 2.1475]\n",
      "Whode.\n",
      "\n",
      "aor whath a mater but amt ther nourdt do in to his in for ante, wor be the thow kitake thing i \n",
      "\n",
      "[0m 28s (300 15%) 2.0459]\n",
      "What him besty, be\n",
      "tis thou that tith thel and to say beave wourt to ilw: spearsteres ye com. entry,\n",
      "W \n",
      "\n",
      "[0m 37s (400 20%) 2.0369]\n",
      "Whad may be his tain,\n",
      "Fims in at in I prane oar not, it im\n",
      "Of shim; mastruede.\n",
      "\n",
      "CORK:\n",
      "And me me san, g \n",
      "\n",
      "[0m 47s (500 25%) 2.2005]\n",
      "Whom mans.\n",
      "\n",
      "Thathst sace, his perewill sold nome diest, sul. and ligule\n",
      "The as aly moner\n",
      "And Hadly jef \n",
      "\n",
      "[0m 57s (600 30%) 1.9203]\n",
      "Whath my my thour.\n",
      "\n",
      "ThING ERDIAND:\n",
      "To my cer,\n",
      "And must my lentit.\n",
      "\n",
      "GLOUCESTER:\n",
      "I deast was than and be \n",
      "\n",
      "[1m 6s (700 35%) 1.9028]\n",
      "Whien at hepicter,\n",
      "For thee corron the to hy so, we at loves, king the he mastingly his door preist, a \n",
      "\n",
      "[1m 15s (800 40%) 1.9324]\n",
      "Whtild that mition and on him erears flature'd for um deancue though with for that which four adgain H \n",
      "\n",
      "[1m 25s (900 45%) 1.9309]\n",
      "Whall with him for of the lookine\n",
      "Do allow, to I dook son! Edenater to dence\n",
      "To this preato sents then \n",
      "\n",
      "[1m 35s (1000 50%) 2.0301]\n",
      "Whave of the speince to that sole do and iter,\n",
      "The the bant as by and it hinsss it thour gronighter ar \n",
      "\n",
      "[1m 45s (1100 55%) 1.9934]\n",
      "What they intremice wet ware, his why, yours to here forse, at use, this reage wherell;\n",
      "And there so t \n",
      "\n",
      "[1m 54s (1200 60%) 1.5400]\n",
      "Whave chardy and 'teen have not thine and deart it one\n",
      "I'll me you not loud but vering make you so tak \n",
      "\n",
      "[2m 5s (1300 65%) 1.5484]\n",
      "Wher-falin, all the with the this would heart:\n",
      "Bears of we him, roull\n",
      "Un love to vonauted with sit poo \n",
      "\n",
      "[2m 15s (1400 70%) 1.8975]\n",
      "Whirst of the with thuns\n",
      "As men the beak me fraident, but thee the me to for prider:\n",
      "And strut youts a \n",
      "\n",
      "[2m 25s (1500 75%) 2.0092]\n",
      "What her colsting of aut tell on Duke\n",
      "When shalf see the till fing hard the and these, a for Morteous? \n",
      "\n",
      "[2m 35s (1600 80%) 1.9845]\n",
      "What her tane gentrearge heseed soul thy bleed.\n",
      "\n",
      "DUKE VINCENTIO:\n",
      "Why they prows of Gell here with up p \n",
      "\n",
      "[2m 45s (1700 85%) 1.6289]\n",
      "Whand,\n",
      "Scan the ford, but the anstles subject:\n",
      "Shall the mes. Got and the call;\n",
      "And of the cart corse: \n",
      "\n",
      "[2m 54s (1800 90%) 1.6927]\n",
      "When the know o' matield and not counder's crown:\n",
      "What heres leaved one the knows the manust now s wan \n",
      "\n",
      "[3m 4s (1900 95%) 1.9071]\n",
      "What brother the gradieds: I beward,\n",
      "The so vister go fouth you sway.\n",
      "\n",
      "DUKE VINCENTIO:\n",
      "I good more agi \n",
      "\n",
      "[3m 15s (2000 100%) 1.6370]\n",
      "Wheremus, suc!\n",
      "\n",
      "LUCIO:\n",
      "Lost, look'd lif, the torms to shall bear's\n",
      "For that should intreak ander disce \n",
      "\n"
     ]
    }
   ],
   "source": [
    "n_epochs = 2000\n",
    "print_every = 100\n",
    "plot_every = 10\n",
    "hidden_size = 100\n",
    "n_layers = 1\n",
    "lr = 0.005\n",
    "\n",
    "decoder = RNN(n_characters, hidden_size, n_characters, n_layers)\n",
    "decoder_optimizer = torch.optim.Adam(decoder.parameters(), lr=lr)\n",
    "criterion = nn.CrossEntropyLoss()\n",
    "\n",
    "start = time.time()\n",
    "all_losses = []\n",
    "loss_avg = 0\n",
    "\n",
    "for epoch in range(1, n_epochs + 1):\n",
    "    loss = train(*random_training_set())       \n",
    "    loss_avg += loss\n",
    "\n",
    "    if epoch % print_every == 0:\n",
    "        print('[%s (%d %d%%) %.4f]' % (time_since(start), epoch, epoch / n_epochs * 100, loss))\n",
    "        print(evaluate('Wh', 100), '\\n')\n",
    "\n",
    "    if epoch % plot_every == 0:\n",
    "        all_losses.append(loss_avg / plot_every)\n",
    "        loss_avg = 0"
   ]
  },
  {
   "cell_type": "markdown",
   "metadata": {},
   "source": [
    "## 损失变化图\n",
    "\n",
    "查看损失在训练过程中的变化有助于我们了解学习的过程。"
   ]
  },
  {
   "cell_type": "code",
   "execution_count": 20,
   "metadata": {},
   "outputs": [
    {
     "data": {
      "text/plain": [
       "[<matplotlib.lines.Line2D at 0x7f55908347b8>]"
      ]
     },
     "execution_count": 20,
     "metadata": {},
     "output_type": "execute_result"
    },
    {
     "data": {
      "image/png": "[encoded data removed]",
      "text/plain": [
       "<Figure size 432x288 with 1 Axes>"
      ]
     },
     "metadata": {},
     "output_type": "display_data"
    }
   ],
   "source": [
    "import matplotlib.pyplot as plt\n",
    "import matplotlib.ticker as ticker\n",
    "%matplotlib inline\n",
    "\n",
    "plt.figure()\n",
    "plt.plot(all_losses)"
   ]
  },
  {
   "cell_type": "markdown",
   "metadata": {},
   "source": [
    "## 测试"
   ]
  },
  {
   "cell_type": "code",
   "execution_count": 21,
   "metadata": {},
   "outputs": [
    {
     "name": "stdout",
     "output_type": "stream",
     "text": [
      "There, good but, sir, in that resting may sir.\n",
      "\n",
      "MARDANETA:\n",
      "Wife, in the have his prince othere, as not;\n",
      "My my pleast beir encent but thy lee the day\n",
      "Wine and a isine.\n",
      "\n",
      "FLYOMO:\n",
      "My good the new:\n",
      "Whol of h\n"
     ]
    }
   ],
   "source": [
    "print(evaluate('Th', 200, temperature=0.8))"
   ]
  },
  {
   "cell_type": "code",
   "execution_count": 22,
   "metadata": {},
   "outputs": [
    {
     "name": "stdout",
     "output_type": "stream",
     "text": [
      "There the the shall shall the shall shall the shall be the change the die a shall the shall the should that the shall shall shall be a shall the truther the chander the chander the command.\n",
      "\n",
      "CAMILLO:\n",
      "Wh\n"
     ]
    }
   ],
   "source": [
    "print(evaluate('Th', 200, temperature=0.2))"
   ]
  }
 ],
 "metadata": {
  "kernelspec": {
   "display_name": "py3.6-env",
   "language": "python",
   "name": "py3.6-env"
  },
  "language_info": {
   "codemirror_mode": {
    "name": "ipython",
    "version": 3
   },
   "file_extension": ".py",
   "mimetype": "text/x-python",
   "name": "python",
   "nbconvert_exporter": "python",
   "pygments_lexer": "ipython3",
   "version": "3.6.5"
  }
 },
 "nbformat": 4,
 "nbformat_minor": 2
}
