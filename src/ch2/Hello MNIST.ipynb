{
 "cells": [
  {
   "cell_type": "markdown",
   "metadata": {},
   "source": [
    "# Hello MNIST\n"
   ]
  },
  {
   "cell_type": "markdown",
   "metadata": {},
   "source": [
    "## 测试"
   ]
  },
  {
   "cell_type": "code",
   "execution_count": 2,
   "metadata": {},
   "outputs": [
    {
     "name": "stdout",
     "output_type": "stream",
     "text": [
      "The autoreload extension is already loaded. To reload it, use:\n",
      "  %reload_ext autoreload\n",
      "Epoch 0: 9057 / 10000\n",
      "Epoch 1: 9177 / 10000\n",
      "Epoch 2: 9243 / 10000\n",
      "Epoch 3: 9259 / 10000\n",
      "Epoch 4: 9319 / 10000\n",
      "Epoch 5: 9318 / 10000\n",
      "Epoch 6: 9310 / 10000\n",
      "Epoch 7: 9366 / 10000\n",
      "Epoch 8: 9350 / 10000\n",
      "Epoch 9: 9376 / 10000\n",
      "Epoch 10: 9396 / 10000\n",
      "Epoch 11: 9366 / 10000\n",
      "Epoch 12: 9395 / 10000\n",
      "Epoch 13: 9398 / 10000\n",
      "Epoch 14: 9372 / 10000\n",
      "Epoch 15: 9420 / 10000\n",
      "Epoch 16: 9426 / 10000\n",
      "Epoch 17: 9409 / 10000\n",
      "Epoch 18: 9408 / 10000\n",
      "Epoch 19: 9431 / 10000\n",
      "Epoch 20: 9404 / 10000\n",
      "Epoch 21: 9425 / 10000\n",
      "Epoch 22: 9407 / 10000\n",
      "Epoch 23: 9403 / 10000\n",
      "Epoch 24: 9425 / 10000\n",
      "Epoch 25: 9406 / 10000\n",
      "Epoch 26: 9428 / 10000\n",
      "Epoch 27: 9419 / 10000\n",
      "Epoch 28: 9427 / 10000\n",
      "Epoch 29: 9441 / 10000\n"
     ]
    }
   ],
   "source": [
    "%load_ext autoreload\n",
    "%autoreload 2\n",
    "\n",
    "%aimport mnist_loader\n",
    "%aimport network \n",
    "training_data, validation_data, test_data = mnist_loader.load_data_wrapper()\n",
    "net = network.Network([784, 30, 10])\n",
    "net.SGD(training_data, 30, 10, 3.0, test_data=test_data)"
   ]
  },
  {
   "cell_type": "code",
   "execution_count": null,
   "metadata": {},
   "outputs": [],
   "source": []
  }
 ],
 "metadata": {
  "kernelspec": {
   "display_name": "py3.6-env",
   "language": "python",
   "name": "py3.6-env"
  },
  "language_info": {
   "codemirror_mode": {
    "name": "ipython",
    "version": 3
   },
   "file_extension": ".py",
   "mimetype": "text/x-python",
   "name": "python",
   "nbconvert_exporter": "python",
   "pygments_lexer": "ipython3",
   "version": "3.6.5"
  }
 },
 "nbformat": 4,
 "nbformat_minor": 2
}
